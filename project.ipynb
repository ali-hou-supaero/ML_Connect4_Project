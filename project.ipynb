{
 "cells": [
  {
   "cell_type": "markdown",
   "id": "50e3fe62",
   "metadata": {},
   "source": [
    "# Machine Learning Project - Connect 4 Database"
   ]
  },
  {
   "cell_type": "markdown",
   "id": "e4910899",
   "metadata": {},
   "source": [
    "# HOUSSENALY Ali - GUILLARME Côme"
   ]
  },
  {
   "cell_type": "code",
   "execution_count": 6,
   "id": "743fcf0a",
   "metadata": {},
   "outputs": [],
   "source": [
    "# Import modules\n",
    "from ucimlrepo import fetch_ucirepo\n",
    "import pandas as pd\n",
    "import matplotlib.pyplot as plt"
   ]
  },
  {
   "cell_type": "code",
   "execution_count": 2,
   "id": "b0acb7b8",
   "metadata": {},
   "outputs": [],
   "source": [
    "# Fetch dataset from UCI repository\n",
    "connect_4 = fetch_ucirepo(id=26) "
   ]
  },
  {
   "cell_type": "code",
   "execution_count": null,
   "id": "f86b366c",
   "metadata": {},
   "outputs": [
    {
     "name": "stdout",
     "output_type": "stream",
     "text": [
      "<class 'pandas.core.frame.DataFrame'>\n",
      "RangeIndex: 67557 entries, 0 to 67556\n",
      "Data columns (total 43 columns):\n",
      " #   Column  Non-Null Count  Dtype \n",
      "---  ------  --------------  ----- \n",
      " 0   a1      67557 non-null  object\n",
      " 1   a2      67557 non-null  object\n",
      " 2   a3      67557 non-null  object\n",
      " 3   a4      67557 non-null  object\n",
      " 4   a5      67557 non-null  object\n",
      " 5   a6      67557 non-null  object\n",
      " 6   b1      67557 non-null  object\n",
      " 7   b2      67557 non-null  object\n",
      " 8   b3      67557 non-null  object\n",
      " 9   b4      67557 non-null  object\n",
      " 10  b5      67557 non-null  object\n",
      " 11  b6      67557 non-null  object\n",
      " 12  c1      67557 non-null  object\n",
      " 13  c2      67557 non-null  object\n",
      " 14  c3      67557 non-null  object\n",
      " 15  c4      67557 non-null  object\n",
      " 16  c5      67557 non-null  object\n",
      " 17  c6      67557 non-null  object\n",
      " 18  d1      67557 non-null  object\n",
      " 19  d2      67557 non-null  object\n",
      " 20  d3      67557 non-null  object\n",
      " 21  d4      67557 non-null  object\n",
      " 22  d5      67557 non-null  object\n",
      " 23  d6      67557 non-null  object\n",
      " 24  e1      67557 non-null  object\n",
      " 25  e2      67557 non-null  object\n",
      " 26  e3      67557 non-null  object\n",
      " 27  e4      67557 non-null  object\n",
      " 28  e5      67557 non-null  object\n",
      " 29  e6      67557 non-null  object\n",
      " 30  f1      67557 non-null  object\n",
      " 31  f2      67557 non-null  object\n",
      " 32  f3      67557 non-null  object\n",
      " 33  f4      67557 non-null  object\n",
      " 34  f5      67557 non-null  object\n",
      " 35  f6      67557 non-null  object\n",
      " 36  g1      67557 non-null  object\n",
      " 37  g2      67557 non-null  object\n",
      " 38  g3      67557 non-null  object\n",
      " 39  g4      67557 non-null  object\n",
      " 40  g5      67557 non-null  object\n",
      " 41  g6      67557 non-null  object\n",
      " 42  target  67557 non-null  object\n",
      "dtypes: object(43)\n",
      "memory usage: 22.2+ MB\n"
     ]
    }
   ],
   "source": [
    "# Convert to DataFrame\n",
    "df = pd.DataFrame(connect_4.data.features, columns=connect_4.feature_names)\n",
    "df['target'] = connect_4.data.targets\n",
    "\n",
    "# Display DataFrame information\n",
    "df.info()"
   ]
  },
  {
   "cell_type": "markdown",
   "id": "9d4393da",
   "metadata": {},
   "source": [
    "The dataset "
   ]
  },
  {
   "cell_type": "code",
   "execution_count": null,
   "id": "3d85dbe2",
   "metadata": {},
   "outputs": [],
   "source": [
    "\n",
    "\n",
    "def plot_connect4_row(row):\n",
    "    # Reshape the row to 6 rows x 7 columns (Connect-4 board)\n",
    "    board = row.values.reshape((6, 7))\n",
    "    fig, ax = plt.subplots(figsize=(7, 6))\n",
    "    # Draw circles for each cell\n",
    "    for i in range(6):\n",
    "        for j in range(7):\n",
    "            color = 'white'\n",
    "            if board[i, j] == 'x':\n",
    "                color = 'red'\n",
    "            elif board[i, j] == 'o':\n",
    "                color = 'yellow'\n",
    "            circle = plt.Circle((j, 5 - i), 0.4, color=color, ec='black')\n",
    "            ax.add_patch(circle)\n",
    "    ax.set_xlim(-0.5, 6.5)\n",
    "    ax.set_ylim(-0.5, 5.5)\n",
    "    ax.set_xticks(range(7))\n",
    "    ax.set_yticks(range(6))\n",
    "    ax.set_xticklabels(['a', 'b', 'c', 'd', 'e', 'f', 'g'])\n",
    "    ax.set_yticklabels(range(1, 7))\n",
    "    ax.set_aspect('equal')\n",
    "    plt.gca().invert_yaxis()\n",
    "    plt.title(f\"Connect-4 Board (target: {df.loc[0, 'target']})\")\n",
    "    plt.show()\n",
    "\n",
    "plot_connect4_row(df.iloc[0, :-1])"
   ]
  }
 ],
 "metadata": {
  "kernelspec": {
   "display_name": "myenv",
   "language": "python",
   "name": "python3"
  },
  "language_info": {
   "codemirror_mode": {
    "name": "ipython",
    "version": 3
   },
   "file_extension": ".py",
   "mimetype": "text/x-python",
   "name": "python",
   "nbconvert_exporter": "python",
   "pygments_lexer": "ipython3",
   "version": "3.12.11"
  }
 },
 "nbformat": 4,
 "nbformat_minor": 5
}
